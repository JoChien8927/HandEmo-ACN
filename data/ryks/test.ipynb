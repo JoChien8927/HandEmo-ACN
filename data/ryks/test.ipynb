{
 "cells": [
  {
   "cell_type": "code",
   "execution_count": 8,
   "metadata": {},
   "outputs": [],
   "source": [
    " #depthimport os\n",
    "import cv2\n",
    "from tqdm import tqdm\n",
    "\n",
    "def crop_frame(frame):\n",
    "    # Get the current height and width of the image\n",
    "    height, width, _ = frame.shape\n",
    "    \n",
    "    # Calculate the new boundaries of the image after cropping\n",
    "    new_top = 0\n",
    "    new_bottom = int(height * 0.4)  # Keep the top 60%\n",
    "    new_left = int(width * 0.1)     # Exclude the left 10%\n",
    "    new_right = int(width * 0.8)    # Exclude the right 20%\n",
    "\n",
    "    # Crop the image\n",
    "    cropped_frame = frame[new_top:new_bottom, new_left:new_right]\n",
    "     \n",
    "    return cropped_frame\n",
    "\n",
    "#找明度大於200的點 並塗黑\n",
    "#地板區\n",
    "def crop_frame_white(frame):\n",
    "    gray = cv2.cvtColor(frame, cv2.COLOR_BGR2GRAY)\n",
    "    _, thresh = cv2.threshold(gray, 180, 255, cv2.THRESH_BINARY)\n",
    "    frame[thresh == 255] = 0\n",
    "    return frame\n",
    "\n",
    "\n",
    "dep_frame = cv2.imread(r\"E:\\Codes\\Repos\\ACTION-Net\\data\\ryks\\frames_ori\\1Arlequin_clip_0_emotion_7_7_2_label_0\\dep\\0001.jpg\")\n",
    "rgb_frame = cv2.imread(r\"E:\\Codes\\Repos\\ACTION-Net\\data\\ryks\\frames_ori\\1Arlequin_clip_0_emotion_7_7_2_label_0\\rgb\\0001.jpg\")\n",
    "\n",
    "dep_frame = crop_frame_white(dep_frame)\n",
    "# rgb_frame = crop_frame_white(rgb_frame)\n",
    "rgb_frame[dep_frame == 0] = 0\n",
    "\n",
    "#rgb\n",
    "dep_frame = crop_frame(dep_frame)\n",
    "rgb_frame = crop_frame(rgb_frame)\n",
    "# 將depthframe中黑色的部分 也將rgbframe中的對應部分塗黑\n",
    "\n",
    "# show\n",
    "cv2.imshow(\"\",dep_frame)\n",
    "cv2.waitKey(0)\n",
    "cv2.imshow(\"\",rgb_frame)\n",
    "cv2.waitKey(0)\n",
    "cv2.destroyAllWindows()"
   ]
  }
 ],
 "metadata": {
  "kernelspec": {
   "display_name": "openmmlab",
   "language": "python",
   "name": "python3"
  },
  "language_info": {
   "codemirror_mode": {
    "name": "ipython",
    "version": 3
   },
   "file_extension": ".py",
   "mimetype": "text/x-python",
   "name": "python",
   "nbconvert_exporter": "python",
   "pygments_lexer": "ipython3",
   "version": "3.8.19"
  }
 },
 "nbformat": 4,
 "nbformat_minor": 2
}
