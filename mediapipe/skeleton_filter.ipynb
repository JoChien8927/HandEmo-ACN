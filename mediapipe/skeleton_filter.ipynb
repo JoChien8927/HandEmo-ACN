{
 "cells": [
  {
   "cell_type": "code",
   "execution_count": 27,
   "metadata": {},
   "outputs": [],
   "source": [
    "import cv2\n",
    "import numpy as np\n",
    "import matplotlib.pyplot as plt\n",
    "import os \n",
    "import sys\n",
    "import mediapipe as mp\n",
    "\n",
    "\n",
    "\n",
    "#read img 0001.jpg\n",
    "#檢查有沒有讀到圖片\n",
    "if not os.path.exists('0001.jpg'):\n",
    "    print(\"image not found!\")\n",
    "    sys.exit()\n",
    "img=cv2.imread('0001.jpg')\n",
    "cv2.imshow('img', img)\n",
    "cv2.waitKey(0)\n",
    "cv2.destroyAllWindows()\n"
   ]
  },
  {
   "cell_type": "code",
   "execution_count": 28,
   "metadata": {},
   "outputs": [
    {
     "name": "stdout",
     "output_type": "stream",
     "text": [
      "keypoint_2hands shape:(2, 17, 3)\n"
     ]
    }
   ],
   "source": [
    "hands = mp.solutions.hands.Hands()\n",
    "img = cv2.cvtColor(img, cv2.COLOR_BGR2RGB)\n",
    "\n",
    "#將當前frame讀取並用mediapipe抓出keypoint\n",
    "results = hands.process(img)\n",
    "\n",
    "# 如果有抓到keypoint\n",
    "if results.multi_hand_landmarks:\n",
    "    # print(\"keypoint detected!\")\n",
    "    keypoint_2hands=[] #(2,21,3)\n",
    "    keypoint_score_2hands = [] #(2,21)\n",
    "    # results.multi_hand_landmarks共兩隻手 \n",
    "    for index,hand_landmarks in enumerate(results.multi_hand_landmarks[:2]):\n",
    "        keypoint_21 = [] #(21,3)\n",
    "        keypoint_score_21 = [] #(21)\n",
    "        \n",
    "        #整隻手的信心值\n",
    "        confidence_score = results.multi_handedness[index].classification[0].score\n",
    "        # print(f'hand#{index} confidence_score:{confidence_score}')\n",
    "        \n",
    "        for idx,landmark in enumerate(hand_landmarks.landmark):#21\n",
    "            # 抓到骨架在frame圖上的座標\n",
    "            x_cord = int(round(landmark.x * img.shape[1]))\n",
    "            y_cord = int(round(landmark.y * img.shape[0]))\n",
    "            # 畫在frame上\n",
    "            #show出圖片並等待使用者按下任意鍵\n",
    "            cv2.imshow('img', img)\n",
    "            # cv2.waitKey(0)\n",
    "            # cv2.destroyAllWindows()\n",
    "            \n",
    "            # depth_value = int(depthIMG[y_cord, x_cord])\n",
    "            # 紀錄每個關節的座標\n",
    "            current_keypoint = [landmark.x, landmark.y, landmark.z]\n",
    "            #current_keypoint shape : (3,) \n",
    "            # print(f'current_keypoint shape:{np.array(current_keypoint).shape}')\n",
    "            #如果index為 {7,11,15,19} 則不append\n",
    "            if idx in [7,11,15,19]:\n",
    "                cv2.circle(img, (x_cord, y_cord), 5, (0, 255, 0), -1)\n",
    "                pass\n",
    "            else:\n",
    "                cv2.circle(img, (x_cord, y_cord), 5, (0, 0, 255), -1)\n",
    "                \n",
    "                keypoint_21.append(current_keypoint) #3\n",
    "                # print(f'keypoint_21 shape:{np.array(keypoint_21).shape}')\n",
    "                # 紀錄每個關節的信心值\n",
    "                # mediapipe的信心值介於0~1之間，越接近1代表越有信心\n",
    "                # confidence_score = landmark.visibility\n",
    "                keypoint_score_21.append(confidence_score)\n",
    "                # print(f'_confidence_score:{confidence_score}')\n",
    "            \n",
    "        keypoint_2hands.append(np.array(keypoint_21, dtype=np.float16)) # 每個frame的keypoints (T, 21, 3) =(frame, keypoint, channel(x,y,z))\n",
    "        keypoint_score_2hands.append(np.array(keypoint_score_21, dtype=np.float16))\n",
    "        \n",
    "    print(f'keypoint_2hands shape:{np.array(keypoint_2hands).shape}')\n",
    "    # make sure keypoint_2hands shape is (2,21,3)\n",
    "    # 如果只有一隻手，則填補一隻空手\n",
    "    if len(keypoint_2hands) == 1:\n",
    "        keypoint_2hands.append(np.zeros((21,3)))\n",
    "        keypoint_score_2hands.append(np.zeros((21))) \n",
    "        print(f'補完後 keypoint_2hands shape: {np.array(keypoint_2hands).shape} ')\n",
    "    elif len(keypoint_2hands) == 0:# 補2隻空手\n",
    "        keypoint_2hands.append(np.zeros((21,3)))\n",
    "        keypoint_score_2hands.append(np.zeros((21)))\n",
    "        keypoint_2hands.append(np.zeros((21,3)))\n",
    "        keypoint_score_2hands.append(np.zeros((21)))\n",
    "        print(f'補完後 keypoint_2hands shape: {np.array(keypoint_2hands).shape} ')\n",
    "    cv2.waitKey(0)\n",
    "    cv2.destroyAllWindows()\n",
    "else:\n",
    "    print(\"no keypoint detected!\")\n",
    "    pass\n"
   ]
  },
  {
   "cell_type": "code",
   "execution_count": null,
   "metadata": {},
   "outputs": [],
   "source": []
  }
 ],
 "metadata": {
  "kernelspec": {
   "display_name": "mediapipe10",
   "language": "python",
   "name": "python3"
  },
  "language_info": {
   "codemirror_mode": {
    "name": "ipython",
    "version": 3
   },
   "file_extension": ".py",
   "mimetype": "text/x-python",
   "name": "python",
   "nbconvert_exporter": "python",
   "pygments_lexer": "ipython3",
   "version": "3.10.13"
  }
 },
 "nbformat": 4,
 "nbformat_minor": 2
}
